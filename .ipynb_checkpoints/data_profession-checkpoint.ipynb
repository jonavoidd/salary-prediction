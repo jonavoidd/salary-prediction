{
 "cells": [
  {
   "cell_type": "code",
   "execution_count": 2,
   "id": "97e3b9da-9b1f-48e1-b581-8d500ecf0886",
   "metadata": {},
   "outputs": [],
   "source": [
    "import pandas as pd"
   ]
  },
  {
   "cell_type": "code",
   "execution_count": 4,
   "id": "d2a9f03e-bf4e-4467-8a0e-9d87ef90811e",
   "metadata": {},
   "outputs": [
    {
     "data": {
      "text/plain": [
       "(2639, 13)"
      ]
     },
     "execution_count": 4,
     "metadata": {},
     "output_type": "execute_result"
    }
   ],
   "source": [
    "df = pd.read_csv('salary_prediction_of_data_professions.csv')\n",
    "df.shape"
   ]
  },
  {
   "cell_type": "code",
   "execution_count": 5,
   "id": "faa43eaa-5447-46d8-bb56-e11c0f871bbe",
   "metadata": {},
   "outputs": [],
   "source": [
    "prof_df = df.dropna()"
   ]
  },
  {
   "cell_type": "code",
   "execution_count": 6,
   "id": "9fa9ef45-5b26-4c97-a7cc-0870a8cbe918",
   "metadata": {},
   "outputs": [
    {
     "data": {
      "text/plain": [
       "(2631, 13)"
      ]
     },
     "execution_count": 6,
     "metadata": {},
     "output_type": "execute_result"
    }
   ],
   "source": [
    "prof_df.shape"
   ]
  },
  {
   "cell_type": "code",
   "execution_count": 9,
   "id": "4832bafb-44fa-4dd6-ab00-f524c634e494",
   "metadata": {},
   "outputs": [
    {
     "name": "stdout",
     "output_type": "stream",
     "text": [
      "Number of NaN:\n",
      "FIRST NAME          0\n",
      "LAST NAME           0\n",
      "SEX                 0\n",
      "DOJ                 0\n",
      "CURRENT DATE        0\n",
      "DESIGNATION         0\n",
      "AGE                 0\n",
      "SALARY              0\n",
      "UNIT                0\n",
      "LEAVES USED         0\n",
      "LEAVES REMAINING    0\n",
      "RATINGS             0\n",
      "PAST EXP            0\n",
      "dtype: int64\n"
     ]
    }
   ],
   "source": [
    "print(f'Number of NaN:\\n{prof_df.isna().sum()}')"
   ]
  },
  {
   "cell_type": "code",
   "execution_count": 12,
   "id": "00b6ad16-025a-4e15-9f71-6a1a09a3aa24",
   "metadata": {},
   "outputs": [
    {
     "data": {
      "text/html": [
       "<div>\n",
       "<style scoped>\n",
       "    .dataframe tbody tr th:only-of-type {\n",
       "        vertical-align: middle;\n",
       "    }\n",
       "\n",
       "    .dataframe tbody tr th {\n",
       "        vertical-align: top;\n",
       "    }\n",
       "\n",
       "    .dataframe thead th {\n",
       "        text-align: right;\n",
       "    }\n",
       "</style>\n",
       "<table border=\"1\" class=\"dataframe\">\n",
       "  <thead>\n",
       "    <tr style=\"text-align: right;\">\n",
       "      <th></th>\n",
       "      <th>SEX</th>\n",
       "      <th>DESIGNATION</th>\n",
       "      <th>AGE</th>\n",
       "      <th>SALARY</th>\n",
       "      <th>UNIT</th>\n",
       "      <th>RATINGS</th>\n",
       "      <th>PAST EXP</th>\n",
       "    </tr>\n",
       "  </thead>\n",
       "  <tbody>\n",
       "    <tr>\n",
       "      <th>0</th>\n",
       "      <td>F</td>\n",
       "      <td>Analyst</td>\n",
       "      <td>21.0</td>\n",
       "      <td>44570</td>\n",
       "      <td>Finance</td>\n",
       "      <td>2.0</td>\n",
       "      <td>0</td>\n",
       "    </tr>\n",
       "    <tr>\n",
       "      <th>2</th>\n",
       "      <td>F</td>\n",
       "      <td>Analyst</td>\n",
       "      <td>21.0</td>\n",
       "      <td>40955</td>\n",
       "      <td>Finance</td>\n",
       "      <td>3.0</td>\n",
       "      <td>0</td>\n",
       "    </tr>\n",
       "    <tr>\n",
       "      <th>3</th>\n",
       "      <td>F</td>\n",
       "      <td>Analyst</td>\n",
       "      <td>22.0</td>\n",
       "      <td>45550</td>\n",
       "      <td>IT</td>\n",
       "      <td>3.0</td>\n",
       "      <td>0</td>\n",
       "    </tr>\n",
       "    <tr>\n",
       "      <th>6</th>\n",
       "      <td>M</td>\n",
       "      <td>Analyst</td>\n",
       "      <td>22.0</td>\n",
       "      <td>40339</td>\n",
       "      <td>Marketing</td>\n",
       "      <td>5.0</td>\n",
       "      <td>0</td>\n",
       "    </tr>\n",
       "    <tr>\n",
       "      <th>8</th>\n",
       "      <td>F</td>\n",
       "      <td>Senior Analyst</td>\n",
       "      <td>28.0</td>\n",
       "      <td>63478</td>\n",
       "      <td>Operations</td>\n",
       "      <td>3.0</td>\n",
       "      <td>1</td>\n",
       "    </tr>\n",
       "    <tr>\n",
       "      <th>...</th>\n",
       "      <td>...</td>\n",
       "      <td>...</td>\n",
       "      <td>...</td>\n",
       "      <td>...</td>\n",
       "      <td>...</td>\n",
       "      <td>...</td>\n",
       "      <td>...</td>\n",
       "    </tr>\n",
       "    <tr>\n",
       "      <th>2634</th>\n",
       "      <td>F</td>\n",
       "      <td>Senior Manager</td>\n",
       "      <td>36.0</td>\n",
       "      <td>185977</td>\n",
       "      <td>Management</td>\n",
       "      <td>5.0</td>\n",
       "      <td>10</td>\n",
       "    </tr>\n",
       "    <tr>\n",
       "      <th>2635</th>\n",
       "      <td>F</td>\n",
       "      <td>Analyst</td>\n",
       "      <td>23.0</td>\n",
       "      <td>45758</td>\n",
       "      <td>IT</td>\n",
       "      <td>2.0</td>\n",
       "      <td>0</td>\n",
       "    </tr>\n",
       "    <tr>\n",
       "      <th>2636</th>\n",
       "      <td>F</td>\n",
       "      <td>Analyst</td>\n",
       "      <td>21.0</td>\n",
       "      <td>47315</td>\n",
       "      <td>Web</td>\n",
       "      <td>5.0</td>\n",
       "      <td>0</td>\n",
       "    </tr>\n",
       "    <tr>\n",
       "      <th>2637</th>\n",
       "      <td>F</td>\n",
       "      <td>Analyst</td>\n",
       "      <td>24.0</td>\n",
       "      <td>45172</td>\n",
       "      <td>Web</td>\n",
       "      <td>3.0</td>\n",
       "      <td>1</td>\n",
       "    </tr>\n",
       "    <tr>\n",
       "      <th>2638</th>\n",
       "      <td>M</td>\n",
       "      <td>Analyst</td>\n",
       "      <td>24.0</td>\n",
       "      <td>49176</td>\n",
       "      <td>Marketing</td>\n",
       "      <td>2.0</td>\n",
       "      <td>2</td>\n",
       "    </tr>\n",
       "  </tbody>\n",
       "</table>\n",
       "<p>2631 rows × 7 columns</p>\n",
       "</div>"
      ],
      "text/plain": [
       "     SEX     DESIGNATION   AGE  SALARY        UNIT  RATINGS  PAST EXP\n",
       "0      F         Analyst  21.0   44570     Finance      2.0         0\n",
       "2      F         Analyst  21.0   40955     Finance      3.0         0\n",
       "3      F         Analyst  22.0   45550          IT      3.0         0\n",
       "6      M         Analyst  22.0   40339   Marketing      5.0         0\n",
       "8      F  Senior Analyst  28.0   63478  Operations      3.0         1\n",
       "...   ..             ...   ...     ...         ...      ...       ...\n",
       "2634   F  Senior Manager  36.0  185977  Management      5.0        10\n",
       "2635   F         Analyst  23.0   45758          IT      2.0         0\n",
       "2636   F         Analyst  21.0   47315         Web      5.0         0\n",
       "2637   F         Analyst  24.0   45172         Web      3.0         1\n",
       "2638   M         Analyst  24.0   49176   Marketing      2.0         2\n",
       "\n",
       "[2631 rows x 7 columns]"
      ]
     },
     "execution_count": 12,
     "metadata": {},
     "output_type": "execute_result"
    }
   ],
   "source": [
    "prof_df = prof_df.drop(columns=['FIRST NAME', 'LAST NAME', 'DOJ', 'CURRENT DATE', 'LEAVES USED', 'LEAVES REMAINING'])\n",
    "prof_df"
   ]
  },
  {
   "cell_type": "code",
   "execution_count": 14,
   "id": "72eae2d8-5401-4609-a3f5-0972f29d6a29",
   "metadata": {},
   "outputs": [
    {
     "name": "stdout",
     "output_type": "stream",
     "text": [
      "UNIT\n",
      "IT            460\n",
      "Finance       445\n",
      "Operations    437\n",
      "Marketing     436\n",
      "Web           428\n",
      "Management    425\n",
      "Name: count, dtype: int64 \n",
      "\n",
      "DESIGNATION\n",
      "Analyst           1943\n",
      "Senior Analyst     356\n",
      "Associate          158\n",
      "Manager             81\n",
      "Senior Manager      61\n",
      "Director            32\n",
      "Name: count, dtype: int64 \n",
      "\n",
      "SEX\n",
      "F    1340\n",
      "M    1291\n",
      "Name: count, dtype: int64\n"
     ]
    }
   ],
   "source": [
    "print(f\"{prof_df.loc[:, 'UNIT'].value_counts()} \\n\")\n",
    "print(f\"{prof_df.loc[:, 'DESIGNATION'].value_counts()} \\n\")\n",
    "print(f\"{prof_df.loc[:, 'SEX'].value_counts()}\")"
   ]
  },
  {
   "cell_type": "code",
   "execution_count": 16,
   "id": "f36f7ad4-0854-464f-ad84-7c4ddc5f28c4",
   "metadata": {},
   "outputs": [],
   "source": [
    "unit_mapping = {\n",
    "    'IT': 0,\n",
    "    'Finanace': 1,\n",
    "    'Marketing': 2,\n",
    "    'Operations': 3,\n",
    "    'Web': 4,\n",
    "    'Management': 5\n",
    "}\n",
    "\n",
    "prof_df.loc[:, 'UNIT'] = prof_df['UNIT'].map(unit_mapping)"
   ]
  },
  {
   "cell_type": "code",
   "execution_count": 18,
   "id": "9d7e233b-2d77-48b1-a8d7-91a402ae33fa",
   "metadata": {},
   "outputs": [],
   "source": [
    "desig_mapping = {\n",
    "    'Analyst': 0,\n",
    "    'Senior Analyst': 1,\n",
    "    'Associate': 2,\n",
    "    'Manager': 3, \n",
    "    'Senior Manager': 4, \n",
    "    'Director': 5\n",
    "}\n",
    "\n",
    "prof_df.loc[:, 'DESIGNATION'] = prof_df['DESIGNATION'].map(desig_mapping)"
   ]
  },
  {
   "cell_type": "code",
   "execution_count": 20,
   "id": "f5b38e18-ff3e-4fd7-8d4b-a05f76a9ce9b",
   "metadata": {},
   "outputs": [],
   "source": [
    "sex_mapping = {\n",
    "    'M': 0,\n",
    "    'F': 1\n",
    "}\n",
    "\n",
    "prof_df.loc[:, 'SEX'] = prof_df['SEX'].map(sex_mapping)"
   ]
  },
  {
   "cell_type": "code",
   "execution_count": 22,
   "id": "22128d5a-3186-42eb-a326-02166cf1784e",
   "metadata": {},
   "outputs": [
    {
     "name": "stdout",
     "output_type": "stream",
     "text": [
      "Number of NaN:\n",
      "SEX              0\n",
      "DESIGNATION      0\n",
      "AGE              0\n",
      "SALARY           0\n",
      "UNIT           445\n",
      "RATINGS          0\n",
      "PAST EXP         0\n",
      "dtype: int64\n"
     ]
    }
   ],
   "source": [
    "print(f'Number of NaN:\\n{prof_df.isna().sum()}')"
   ]
  },
  {
   "cell_type": "code",
   "execution_count": 24,
   "id": "4ec15ed7-8c10-4b44-af9f-e504330b6f33",
   "metadata": {},
   "outputs": [],
   "source": [
    "prof_df = prof_df.dropna()"
   ]
  },
  {
   "cell_type": "code",
   "execution_count": 26,
   "id": "e0a29141-d990-4e6d-a225-11d5db8dca2a",
   "metadata": {},
   "outputs": [
    {
     "data": {
      "text/html": [
       "<div>\n",
       "<style scoped>\n",
       "    .dataframe tbody tr th:only-of-type {\n",
       "        vertical-align: middle;\n",
       "    }\n",
       "\n",
       "    .dataframe tbody tr th {\n",
       "        vertical-align: top;\n",
       "    }\n",
       "\n",
       "    .dataframe thead th {\n",
       "        text-align: right;\n",
       "    }\n",
       "</style>\n",
       "<table border=\"1\" class=\"dataframe\">\n",
       "  <thead>\n",
       "    <tr style=\"text-align: right;\">\n",
       "      <th></th>\n",
       "      <th>SEX</th>\n",
       "      <th>DESIGNATION</th>\n",
       "      <th>AGE</th>\n",
       "      <th>SALARY</th>\n",
       "      <th>UNIT</th>\n",
       "      <th>RATINGS</th>\n",
       "      <th>PAST EXP</th>\n",
       "    </tr>\n",
       "  </thead>\n",
       "  <tbody>\n",
       "    <tr>\n",
       "      <th>3</th>\n",
       "      <td>1</td>\n",
       "      <td>0</td>\n",
       "      <td>22.0</td>\n",
       "      <td>45550</td>\n",
       "      <td>0.0</td>\n",
       "      <td>3.0</td>\n",
       "      <td>0</td>\n",
       "    </tr>\n",
       "    <tr>\n",
       "      <th>6</th>\n",
       "      <td>0</td>\n",
       "      <td>0</td>\n",
       "      <td>22.0</td>\n",
       "      <td>40339</td>\n",
       "      <td>2.0</td>\n",
       "      <td>5.0</td>\n",
       "      <td>0</td>\n",
       "    </tr>\n",
       "    <tr>\n",
       "      <th>8</th>\n",
       "      <td>1</td>\n",
       "      <td>1</td>\n",
       "      <td>28.0</td>\n",
       "      <td>63478</td>\n",
       "      <td>3.0</td>\n",
       "      <td>3.0</td>\n",
       "      <td>1</td>\n",
       "    </tr>\n",
       "    <tr>\n",
       "      <th>10</th>\n",
       "      <td>1</td>\n",
       "      <td>0</td>\n",
       "      <td>24.0</td>\n",
       "      <td>41590</td>\n",
       "      <td>2.0</td>\n",
       "      <td>4.0</td>\n",
       "      <td>1</td>\n",
       "    </tr>\n",
       "    <tr>\n",
       "      <th>13</th>\n",
       "      <td>0</td>\n",
       "      <td>0</td>\n",
       "      <td>21.0</td>\n",
       "      <td>45830</td>\n",
       "      <td>4.0</td>\n",
       "      <td>2.0</td>\n",
       "      <td>0</td>\n",
       "    </tr>\n",
       "    <tr>\n",
       "      <th>...</th>\n",
       "      <td>...</td>\n",
       "      <td>...</td>\n",
       "      <td>...</td>\n",
       "      <td>...</td>\n",
       "      <td>...</td>\n",
       "      <td>...</td>\n",
       "      <td>...</td>\n",
       "    </tr>\n",
       "    <tr>\n",
       "      <th>2634</th>\n",
       "      <td>1</td>\n",
       "      <td>4</td>\n",
       "      <td>36.0</td>\n",
       "      <td>185977</td>\n",
       "      <td>5.0</td>\n",
       "      <td>5.0</td>\n",
       "      <td>10</td>\n",
       "    </tr>\n",
       "    <tr>\n",
       "      <th>2635</th>\n",
       "      <td>1</td>\n",
       "      <td>0</td>\n",
       "      <td>23.0</td>\n",
       "      <td>45758</td>\n",
       "      <td>0.0</td>\n",
       "      <td>2.0</td>\n",
       "      <td>0</td>\n",
       "    </tr>\n",
       "    <tr>\n",
       "      <th>2636</th>\n",
       "      <td>1</td>\n",
       "      <td>0</td>\n",
       "      <td>21.0</td>\n",
       "      <td>47315</td>\n",
       "      <td>4.0</td>\n",
       "      <td>5.0</td>\n",
       "      <td>0</td>\n",
       "    </tr>\n",
       "    <tr>\n",
       "      <th>2637</th>\n",
       "      <td>1</td>\n",
       "      <td>0</td>\n",
       "      <td>24.0</td>\n",
       "      <td>45172</td>\n",
       "      <td>4.0</td>\n",
       "      <td>3.0</td>\n",
       "      <td>1</td>\n",
       "    </tr>\n",
       "    <tr>\n",
       "      <th>2638</th>\n",
       "      <td>0</td>\n",
       "      <td>0</td>\n",
       "      <td>24.0</td>\n",
       "      <td>49176</td>\n",
       "      <td>2.0</td>\n",
       "      <td>2.0</td>\n",
       "      <td>2</td>\n",
       "    </tr>\n",
       "  </tbody>\n",
       "</table>\n",
       "<p>2186 rows × 7 columns</p>\n",
       "</div>"
      ],
      "text/plain": [
       "     SEX DESIGNATION   AGE  SALARY UNIT  RATINGS  PAST EXP\n",
       "3      1           0  22.0   45550  0.0      3.0         0\n",
       "6      0           0  22.0   40339  2.0      5.0         0\n",
       "8      1           1  28.0   63478  3.0      3.0         1\n",
       "10     1           0  24.0   41590  2.0      4.0         1\n",
       "13     0           0  21.0   45830  4.0      2.0         0\n",
       "...   ..         ...   ...     ...  ...      ...       ...\n",
       "2634   1           4  36.0  185977  5.0      5.0        10\n",
       "2635   1           0  23.0   45758  0.0      2.0         0\n",
       "2636   1           0  21.0   47315  4.0      5.0         0\n",
       "2637   1           0  24.0   45172  4.0      3.0         1\n",
       "2638   0           0  24.0   49176  2.0      2.0         2\n",
       "\n",
       "[2186 rows x 7 columns]"
      ]
     },
     "execution_count": 26,
     "metadata": {},
     "output_type": "execute_result"
    }
   ],
   "source": [
    "prof_df"
   ]
  },
  {
   "cell_type": "code",
   "execution_count": 28,
   "id": "86d586ae-66a8-4456-a050-fa6a826cbe90",
   "metadata": {},
   "outputs": [
    {
     "data": {
      "text/html": [
       "<div>\n",
       "<style scoped>\n",
       "    .dataframe tbody tr th:only-of-type {\n",
       "        vertical-align: middle;\n",
       "    }\n",
       "\n",
       "    .dataframe tbody tr th {\n",
       "        vertical-align: top;\n",
       "    }\n",
       "\n",
       "    .dataframe thead th {\n",
       "        text-align: right;\n",
       "    }\n",
       "</style>\n",
       "<table border=\"1\" class=\"dataframe\">\n",
       "  <thead>\n",
       "    <tr style=\"text-align: right;\">\n",
       "      <th></th>\n",
       "      <th>AGE</th>\n",
       "      <th>SALARY</th>\n",
       "      <th>RATINGS</th>\n",
       "      <th>PAST EXP</th>\n",
       "    </tr>\n",
       "  </thead>\n",
       "  <tbody>\n",
       "    <tr>\n",
       "      <th>count</th>\n",
       "      <td>2186.000000</td>\n",
       "      <td>2186.000000</td>\n",
       "      <td>2186.000000</td>\n",
       "      <td>2186.000000</td>\n",
       "    </tr>\n",
       "    <tr>\n",
       "      <th>mean</th>\n",
       "      <td>24.730101</td>\n",
       "      <td>58066.301921</td>\n",
       "      <td>3.494053</td>\n",
       "      <td>1.545288</td>\n",
       "    </tr>\n",
       "    <tr>\n",
       "      <th>std</th>\n",
       "      <td>3.907908</td>\n",
       "      <td>36792.485781</td>\n",
       "      <td>1.113763</td>\n",
       "      <td>2.726094</td>\n",
       "    </tr>\n",
       "    <tr>\n",
       "      <th>min</th>\n",
       "      <td>21.000000</td>\n",
       "      <td>40001.000000</td>\n",
       "      <td>2.000000</td>\n",
       "      <td>0.000000</td>\n",
       "    </tr>\n",
       "    <tr>\n",
       "      <th>25%</th>\n",
       "      <td>22.000000</td>\n",
       "      <td>43420.500000</td>\n",
       "      <td>2.000000</td>\n",
       "      <td>0.000000</td>\n",
       "    </tr>\n",
       "    <tr>\n",
       "      <th>50%</th>\n",
       "      <td>24.000000</td>\n",
       "      <td>46774.000000</td>\n",
       "      <td>4.000000</td>\n",
       "      <td>1.000000</td>\n",
       "    </tr>\n",
       "    <tr>\n",
       "      <th>75%</th>\n",
       "      <td>25.000000</td>\n",
       "      <td>50726.000000</td>\n",
       "      <td>4.000000</td>\n",
       "      <td>2.000000</td>\n",
       "    </tr>\n",
       "    <tr>\n",
       "      <th>max</th>\n",
       "      <td>45.000000</td>\n",
       "      <td>388112.000000</td>\n",
       "      <td>5.000000</td>\n",
       "      <td>23.000000</td>\n",
       "    </tr>\n",
       "  </tbody>\n",
       "</table>\n",
       "</div>"
      ],
      "text/plain": [
       "               AGE         SALARY      RATINGS     PAST EXP\n",
       "count  2186.000000    2186.000000  2186.000000  2186.000000\n",
       "mean     24.730101   58066.301921     3.494053     1.545288\n",
       "std       3.907908   36792.485781     1.113763     2.726094\n",
       "min      21.000000   40001.000000     2.000000     0.000000\n",
       "25%      22.000000   43420.500000     2.000000     0.000000\n",
       "50%      24.000000   46774.000000     4.000000     1.000000\n",
       "75%      25.000000   50726.000000     4.000000     2.000000\n",
       "max      45.000000  388112.000000     5.000000    23.000000"
      ]
     },
     "execution_count": 28,
     "metadata": {},
     "output_type": "execute_result"
    }
   ],
   "source": [
    "prof_df.describe()"
   ]
  },
  {
   "cell_type": "code",
   "execution_count": 30,
   "id": "4e2f9a73-8652-4c2a-a04d-847f8fbaeaf7",
   "metadata": {},
   "outputs": [],
   "source": [
    "# Feature Engineering??? Haha\n",
    "features = ['SEX', 'DESIGNATION', 'AGE', 'UNIT', 'RATINGS', 'PAST EXP']\n",
    "X = prof_df[features]\n",
    "\n",
    "# Target Variable\n",
    "y = prof_df[['SALARY']]"
   ]
  },
  {
   "cell_type": "code",
   "execution_count": 32,
   "id": "61d96fea-1e2f-4712-9a56-72f50e8ec426",
   "metadata": {},
   "outputs": [],
   "source": [
    "from sklearn.model_selection import train_test_split\n",
    "from sklearn.linear_model import LinearRegression\n",
    "from sklearn.metrics import mean_squared_error, r2_score"
   ]
  },
  {
   "cell_type": "code",
   "execution_count": 33,
   "id": "395f7131-26d6-49d4-a185-d2bc6bcac7bb",
   "metadata": {},
   "outputs": [],
   "source": [
    "X_train, X_test, y_train, y_test = train_test_split(X, y, test_size=0.25, random_state=42)"
   ]
  },
  {
   "cell_type": "code",
   "execution_count": 34,
   "id": "247b9e0e-2bbc-42cc-a9e8-8b886ec0d98b",
   "metadata": {},
   "outputs": [
    {
     "data": {
      "text/html": [
       "<style>#sk-container-id-1 {color: black;}#sk-container-id-1 pre{padding: 0;}#sk-container-id-1 div.sk-toggleable {background-color: white;}#sk-container-id-1 label.sk-toggleable__label {cursor: pointer;display: block;width: 100%;margin-bottom: 0;padding: 0.3em;box-sizing: border-box;text-align: center;}#sk-container-id-1 label.sk-toggleable__label-arrow:before {content: \"▸\";float: left;margin-right: 0.25em;color: #696969;}#sk-container-id-1 label.sk-toggleable__label-arrow:hover:before {color: black;}#sk-container-id-1 div.sk-estimator:hover label.sk-toggleable__label-arrow:before {color: black;}#sk-container-id-1 div.sk-toggleable__content {max-height: 0;max-width: 0;overflow: hidden;text-align: left;background-color: #f0f8ff;}#sk-container-id-1 div.sk-toggleable__content pre {margin: 0.2em;color: black;border-radius: 0.25em;background-color: #f0f8ff;}#sk-container-id-1 input.sk-toggleable__control:checked~div.sk-toggleable__content {max-height: 200px;max-width: 100%;overflow: auto;}#sk-container-id-1 input.sk-toggleable__control:checked~label.sk-toggleable__label-arrow:before {content: \"▾\";}#sk-container-id-1 div.sk-estimator input.sk-toggleable__control:checked~label.sk-toggleable__label {background-color: #d4ebff;}#sk-container-id-1 div.sk-label input.sk-toggleable__control:checked~label.sk-toggleable__label {background-color: #d4ebff;}#sk-container-id-1 input.sk-hidden--visually {border: 0;clip: rect(1px 1px 1px 1px);clip: rect(1px, 1px, 1px, 1px);height: 1px;margin: -1px;overflow: hidden;padding: 0;position: absolute;width: 1px;}#sk-container-id-1 div.sk-estimator {font-family: monospace;background-color: #f0f8ff;border: 1px dotted black;border-radius: 0.25em;box-sizing: border-box;margin-bottom: 0.5em;}#sk-container-id-1 div.sk-estimator:hover {background-color: #d4ebff;}#sk-container-id-1 div.sk-parallel-item::after {content: \"\";width: 100%;border-bottom: 1px solid gray;flex-grow: 1;}#sk-container-id-1 div.sk-label:hover label.sk-toggleable__label {background-color: #d4ebff;}#sk-container-id-1 div.sk-serial::before {content: \"\";position: absolute;border-left: 1px solid gray;box-sizing: border-box;top: 0;bottom: 0;left: 50%;z-index: 0;}#sk-container-id-1 div.sk-serial {display: flex;flex-direction: column;align-items: center;background-color: white;padding-right: 0.2em;padding-left: 0.2em;position: relative;}#sk-container-id-1 div.sk-item {position: relative;z-index: 1;}#sk-container-id-1 div.sk-parallel {display: flex;align-items: stretch;justify-content: center;background-color: white;position: relative;}#sk-container-id-1 div.sk-item::before, #sk-container-id-1 div.sk-parallel-item::before {content: \"\";position: absolute;border-left: 1px solid gray;box-sizing: border-box;top: 0;bottom: 0;left: 50%;z-index: -1;}#sk-container-id-1 div.sk-parallel-item {display: flex;flex-direction: column;z-index: 1;position: relative;background-color: white;}#sk-container-id-1 div.sk-parallel-item:first-child::after {align-self: flex-end;width: 50%;}#sk-container-id-1 div.sk-parallel-item:last-child::after {align-self: flex-start;width: 50%;}#sk-container-id-1 div.sk-parallel-item:only-child::after {width: 0;}#sk-container-id-1 div.sk-dashed-wrapped {border: 1px dashed gray;margin: 0 0.4em 0.5em 0.4em;box-sizing: border-box;padding-bottom: 0.4em;background-color: white;}#sk-container-id-1 div.sk-label label {font-family: monospace;font-weight: bold;display: inline-block;line-height: 1.2em;}#sk-container-id-1 div.sk-label-container {text-align: center;}#sk-container-id-1 div.sk-container {/* jupyter's `normalize.less` sets `[hidden] { display: none; }` but bootstrap.min.css set `[hidden] { display: none !important; }` so we also need the `!important` here to be able to override the default hidden behavior on the sphinx rendered scikit-learn.org. See: https://github.com/scikit-learn/scikit-learn/issues/21755 */display: inline-block !important;position: relative;}#sk-container-id-1 div.sk-text-repr-fallback {display: none;}</style><div id=\"sk-container-id-1\" class=\"sk-top-container\"><div class=\"sk-text-repr-fallback\"><pre>LinearRegression()</pre><b>In a Jupyter environment, please rerun this cell to show the HTML representation or trust the notebook. <br />On GitHub, the HTML representation is unable to render, please try loading this page with nbviewer.org.</b></div><div class=\"sk-container\" hidden><div class=\"sk-item\"><div class=\"sk-estimator sk-toggleable\"><input class=\"sk-toggleable__control sk-hidden--visually\" id=\"sk-estimator-id-1\" type=\"checkbox\" checked><label for=\"sk-estimator-id-1\" class=\"sk-toggleable__label sk-toggleable__label-arrow\">LinearRegression</label><div class=\"sk-toggleable__content\"><pre>LinearRegression()</pre></div></div></div></div></div>"
      ],
      "text/plain": [
       "LinearRegression()"
      ]
     },
     "execution_count": 34,
     "metadata": {},
     "output_type": "execute_result"
    }
   ],
   "source": [
    "model = LinearRegression()\n",
    "\n",
    "model.fit(X_train, y_train)"
   ]
  },
  {
   "cell_type": "code",
   "execution_count": 38,
   "id": "5e789321-16f5-4503-bac5-ae7b16a243e8",
   "metadata": {},
   "outputs": [
    {
     "name": "stdout",
     "output_type": "stream",
     "text": [
      "Mean Squared Error: 13893.397569961511\n",
      "R-Squared: 0.883218413204637\n"
     ]
    }
   ],
   "source": [
    "y_pred = model.predict(X_test)\n",
    "\n",
    "mse = mean_squared_error(y_test, y_pred, squared=False)\n",
    "r2 = r2_score(y_test, y_pred)\n",
    "\n",
    "print(f'Mean Squared Error: {mse}')\n",
    "print(f'R-Squared: {r2}')\n",
    "\n",
    "model.score(X_test, y_test)"
   ]
  },
  {
   "cell_type": "code",
   "execution_count": 98,
   "id": "84858495-e81d-40e6-9654-eb8022cee1a7",
   "metadata": {},
   "outputs": [
    {
     "data": {
      "image/png": "[encoded data removed]",
      "text/plain": [
       "<Figure size 1000x600 with 1 Axes>"
      ]
     },
     "metadata": {},
     "output_type": "display_data"
    }
   ],
   "source": [
    "import matplotlib.pyplot as plt\n",
    "\n",
    "plt.figure(figsize=(10, 6))\n",
    "plt.scatter(y_test, y_pred, color='b')\n",
    "plt.plot(y_test, y_pred, color='k')\n",
    "plt.xlabel('Actual Salary')\n",
    "plt.ylabel('Predicted Salary')\n",
    "plt.title('Actual vs Predicted Salary')\n",
    "\n",
    "plt.grid()\n",
    "plt.show()"
   ]
  },
  {
   "cell_type": "code",
   "execution_count": null,
   "id": "4de07245-7935-4d92-810f-b54cc0deac40",
   "metadata": {},
   "outputs": [],
   "source": []
  }
 ],
 "metadata": {
  "kernelspec": {
   "display_name": "Python 3 (ipykernel)",
   "language": "python",
   "name": "python3"
  },
  "language_info": {
   "codemirror_mode": {
    "name": "ipython",
    "version": 3
   },
   "file_extension": ".py",
   "mimetype": "text/x-python",
   "name": "python",
   "nbconvert_exporter": "python",
   "pygments_lexer": "ipython3",
   "version": "3.11.5"
  }
 },
 "nbformat": 4,
 "nbformat_minor": 5
}
